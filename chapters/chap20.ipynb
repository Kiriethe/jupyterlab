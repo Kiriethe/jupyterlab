{
  "cells": [
    {
      "cell_type": "markdown",
      "id": "a8b892c8",
      "metadata": {
        "id": "a8b892c8"
      },
      "source": [
        "Printed and electronic copies of *Modeling and Simulation in Python* are available from [No Starch Press](https://nostarch.com/modeling-and-simulation-python) and [Bookshop.org](https://bookshop.org/p/books/modeling-and-simulation-in-python-allen-b-downey/17836697?ean=9781718502161) and [Amazon](https://amzn.to/3y9UxNb)."
      ]
    },
    {
      "cell_type": "markdown",
      "id": "funded-utilization",
      "metadata": {
        "id": "funded-utilization"
      },
      "source": [
        "# The Empire State Building Strikes Back"
      ]
    },
    {
      "cell_type": "markdown",
      "id": "imported-table",
      "metadata": {
        "tags": [],
        "id": "imported-table"
      },
      "source": [
        "*Modeling and Simulation in Python*\n",
        "\n",
        "Copyright 2021 Allen Downey\n",
        "\n",
        "License: [Creative Commons Attribution-NonCommercial-ShareAlike 4.0 International](https://creativecommons.org/licenses/by-nc-sa/4.0/)"
      ]
    },
    {
      "cell_type": "code",
      "execution_count": 1,
      "id": "electoral-turkey",
      "metadata": {
        "tags": [],
        "id": "electoral-turkey",
        "outputId": "a183f08b-1229-4bb8-c922-86c57708d8c5",
        "colab": {
          "base_uri": "https://localhost:8080/"
        }
      },
      "outputs": [
        {
          "output_type": "stream",
          "name": "stdout",
          "text": [
            "Collecting pint\n",
            "  Downloading Pint-0.24.4-py3-none-any.whl.metadata (8.5 kB)\n",
            "Requirement already satisfied: platformdirs>=2.1.0 in /usr/local/lib/python3.11/dist-packages (from pint) (4.3.8)\n",
            "Requirement already satisfied: typing-extensions>=4.0.0 in /usr/local/lib/python3.11/dist-packages (from pint) (4.14.0)\n",
            "Collecting flexcache>=0.3 (from pint)\n",
            "  Downloading flexcache-0.3-py3-none-any.whl.metadata (7.0 kB)\n",
            "Collecting flexparser>=0.4 (from pint)\n",
            "  Downloading flexparser-0.4-py3-none-any.whl.metadata (18 kB)\n",
            "Downloading Pint-0.24.4-py3-none-any.whl (302 kB)\n",
            "\u001b[2K   \u001b[90m━━━━━━━━━━━━━━━━━━━━━━━━━━━━━━━━━━━━━━━━\u001b[0m \u001b[32m302.0/302.0 kB\u001b[0m \u001b[31m9.9 MB/s\u001b[0m eta \u001b[36m0:00:00\u001b[0m\n",
            "\u001b[?25hDownloading flexcache-0.3-py3-none-any.whl (13 kB)\n",
            "Downloading flexparser-0.4-py3-none-any.whl (27 kB)\n",
            "Installing collected packages: flexparser, flexcache, pint\n",
            "Successfully installed flexcache-0.3 flexparser-0.4 pint-0.24.4\n"
          ]
        }
      ],
      "source": [
        "# install Pint if necessary\n",
        "\n",
        "try:\n",
        "    from pint import UnitRegistry\n",
        "except ImportError:\n",
        "    !pip install pint\n",
        "\n",
        "# import units\n",
        "from pint import UnitRegistry\n",
        "units = UnitRegistry()"
      ]
    },
    {
      "cell_type": "code",
      "execution_count": 2,
      "id": "formal-context",
      "metadata": {
        "tags": [],
        "id": "formal-context",
        "outputId": "4ecd9384-5c15-4f9a-ea6b-3eaf957a86ec",
        "colab": {
          "base_uri": "https://localhost:8080/"
        }
      },
      "outputs": [
        {
          "output_type": "stream",
          "name": "stdout",
          "text": [
            "Downloaded modsim.py\n"
          ]
        }
      ],
      "source": [
        "# download modsim.py if necessary\n",
        "\n",
        "from os.path import basename, exists\n",
        "\n",
        "def download(url):\n",
        "    filename = basename(url)\n",
        "    if not exists(filename):\n",
        "        from urllib.request import urlretrieve\n",
        "        local, _ = urlretrieve(url, filename)\n",
        "        print('Downloaded ' + local)\n",
        "\n",
        "download('https://raw.githubusercontent.com/AllenDowney/' +\n",
        "         'ModSimPy/master/modsim.py')"
      ]
    },
    {
      "cell_type": "code",
      "execution_count": 3,
      "id": "progressive-typing",
      "metadata": {
        "tags": [],
        "id": "progressive-typing"
      },
      "outputs": [],
      "source": [
        "# import functions from modsim\n",
        "\n",
        "from modsim import *"
      ]
    },
    {
      "cell_type": "markdown",
      "id": "removable-zoning",
      "metadata": {
        "tags": [],
        "id": "removable-zoning"
      },
      "source": [
        "This chapter is available as a Jupyter notebook where you can read the text, run the code, and work on the exercises.\n",
        "Click here to access the notebooks: <https://allendowney.github.io/ModSimPy/>."
      ]
    },
    {
      "cell_type": "markdown",
      "id": "embedded-gentleman",
      "metadata": {
        "id": "embedded-gentleman"
      },
      "source": [
        "So far the differential equations we've worked with have been *first order*, which means they involve only first derivatives. In this\n",
        "chapter, we turn our attention to *second order* differential equations, which can involve both first and second derivatives.\n",
        "\n",
        "We'll revisit the falling penny example from Chapter 1, and use `run_solve_ivp` to find the position and velocity of the penny as it falls, with and without air resistance."
      ]
    },
    {
      "cell_type": "markdown",
      "id": "isolated-louis",
      "metadata": {
        "id": "isolated-louis"
      },
      "source": [
        "## Newton's Second Law of Motion\n",
        "\n",
        "First order differential equations (DEs) can be written\n",
        "\n",
        "$$\\frac{dy}{dx} = G(x, y)$$\n",
        "\n",
        "where $G$ is some function of $x$ and $y$ (see <http://modsimpy.com/ode>). Second order DEs can be written\n",
        "\n",
        "$$\\frac{d^2y}{dx^2} = H(x, y, \\frac{dy}{dt})$$\n",
        "\n",
        "where $H$ is a function of $x$, $y$, and $dy/dx$.\n",
        "\n",
        "In this chapter, we will work with one of the most famous and useful\n",
        "second order DEs, Newton's second law of motion:\n",
        "\n",
        "$$F = m a$$\n",
        "\n",
        "where $F$ is a force or the total of a set of forces, $m$ is the mass of a moving object, and $a$ is its acceleration."
      ]
    },
    {
      "cell_type": "markdown",
      "id": "drawn-symphony",
      "metadata": {
        "id": "drawn-symphony"
      },
      "source": [
        "Newton's law might not look like a differential equation, until we\n",
        "realize that acceleration, $a$, is the second derivative of position,\n",
        "$y$, with respect to time, $t$. With the substitution\n",
        "\n",
        "$$a = \\frac{d^2y}{dt^2}$$\n",
        "\n",
        "Newton's law can be written\n",
        "\n",
        "$$\\frac{d^2y}{dt^2} = F / m$$\n",
        "\n",
        "And that's definitely a second order DE.\n",
        "In general, $F$ can be a function of time, position, and velocity."
      ]
    },
    {
      "cell_type": "markdown",
      "id": "swiss-vietnam",
      "metadata": {
        "id": "swiss-vietnam"
      },
      "source": [
        "Of course, this \"law\" is really a model in the sense that it is a\n",
        "simplification of the real world. Although it is often approximately\n",
        "true:\n",
        "\n",
        "-   It only applies if $m$ is constant. If mass depends on time,\n",
        "    position, or velocity, we have to use a more general form of\n",
        "    Newton's law (see <http://modsimpy.com/varmass>).\n",
        "\n",
        "-   It is not a good model for very small things, which are better\n",
        "    described by another model, quantum mechanics.\n",
        "\n",
        "-   And it is not a good model for things moving very fast, which are\n",
        "    better described by yet another model, relativistic mechanics.\n",
        "\n",
        "However, for medium-sized things with constant mass, moving at\n",
        "medium-sized speeds, Newton's model is extremely useful. If we can\n",
        "quantify the forces that act on such an object, we can predict how it\n",
        "will move."
      ]
    },
    {
      "cell_type": "markdown",
      "id": "coordinate-three",
      "metadata": {
        "id": "coordinate-three"
      },
      "source": [
        "## Dropping Pennies\n",
        "\n",
        "As a first example, let's get back to the penny falling from the Empire State Building, which we considered in Chapter 1. We will implement two models of this system: first without air resistance, then with.\n",
        "\n",
        "Given that the Empire State Building is 381 m high, and assuming that\n",
        "the penny is dropped from a standstill, the initial conditions are:"
      ]
    },
    {
      "cell_type": "code",
      "execution_count": 4,
      "id": "compatible-increase",
      "metadata": {
        "id": "compatible-increase"
      },
      "outputs": [],
      "source": [
        "init = State(y=381, v=0)"
      ]
    },
    {
      "cell_type": "markdown",
      "id": "intellectual-radiation",
      "metadata": {
        "id": "intellectual-radiation"
      },
      "source": [
        "where `y` is height above the sidewalk and `v` is velocity.\n",
        "\n",
        "I'll put the initial conditions in a `System` object, along with the magnitude of acceleration due to gravity, `g`, and the duration of the simulations, `t_end`."
      ]
    },
    {
      "cell_type": "code",
      "execution_count": 5,
      "id": "reverse-authorization",
      "metadata": {
        "id": "reverse-authorization"
      },
      "outputs": [],
      "source": [
        "system = System(init=init,\n",
        "                g=9.8,\n",
        "                t_end=10)"
      ]
    },
    {
      "cell_type": "markdown",
      "id": "heavy-boards",
      "metadata": {
        "id": "heavy-boards"
      },
      "source": [
        "Now we need a slope function, and here's where things get tricky. As we have seen, `run_solve_ivp` can solve systems of first order DEs, but Newton's law is a second order DE. However, if we recognize that\n",
        "\n",
        "1.  Velocity, $v$, is the derivative of position, $dy/dt$, and\n",
        "\n",
        "2.  Acceleration, $a$, is the derivative of velocity, $dv/dt$,\n",
        "\n",
        "we can rewrite Newton's law as a system of first order ODEs:\n",
        "\n",
        "$$\\frac{dy}{dt} = v$$\n",
        "\n",
        "$$\\frac{dv}{dt} = a$$\n",
        "\n",
        "And we can translate those\n",
        "equations into a slope function:"
      ]
    },
    {
      "cell_type": "code",
      "execution_count": 6,
      "id": "occupied-mercury",
      "metadata": {
        "id": "occupied-mercury"
      },
      "outputs": [],
      "source": [
        "def slope_func(t, state, system):\n",
        "    y, v = state\n",
        "\n",
        "    dydt = v\n",
        "    dvdt = -system.g\n",
        "\n",
        "    return dydt, dvdt"
      ]
    },
    {
      "cell_type": "markdown",
      "id": "opening-adolescent",
      "metadata": {
        "id": "opening-adolescent"
      },
      "source": [
        "As usual, the parameters are a time stamp, a `State` object, and a `System` object.\n",
        "\n",
        "The first line unpacks the state variables, `y` and `v`.\n",
        "\n",
        "The next two lines compute the derivatives of the state variables, `dydt` and `dvdt`.\n",
        "The derivative of position is velocity, and the derivative of velocity is acceleration.\n",
        "In this case, $a = -g$, which indicates that acceleration due to gravity is in the direction of decreasing $y$.\n",
        "\n",
        "`slope_func` returns a sequence containing the two derivatives.\n",
        "\n",
        "Before calling `run_solve_ivp`, it is a good idea to test the slope\n",
        "function with the initial conditions:"
      ]
    },
    {
      "cell_type": "code",
      "execution_count": 7,
      "id": "positive-feeling",
      "metadata": {
        "id": "positive-feeling",
        "outputId": "2030e488-b4e6-421d-82e4-8bf7dd1f99f0",
        "colab": {
          "base_uri": "https://localhost:8080/"
        }
      },
      "outputs": [
        {
          "output_type": "execute_result",
          "data": {
            "text/plain": [
              "(0, -9.8)"
            ]
          },
          "metadata": {},
          "execution_count": 7
        }
      ],
      "source": [
        "dydt, dvdt = slope_func(0, system.init, system)\n",
        "dydt, dvdt"
      ]
    },
    {
      "cell_type": "markdown",
      "id": "false-charlotte",
      "metadata": {
        "id": "false-charlotte"
      },
      "source": [
        "The result is 0 m/s for velocity and -9.8 m/s$^2$ for acceleration.\n",
        "\n",
        "Now we call `run_solve_ivp` like this:"
      ]
    },
    {
      "cell_type": "code",
      "execution_count": 8,
      "id": "lovely-management",
      "metadata": {
        "id": "lovely-management",
        "outputId": "58032ee1-27d4-42ac-e800-cfd105cc7bad",
        "colab": {
          "base_uri": "https://localhost:8080/",
          "height": 35
        }
      },
      "outputs": [
        {
          "output_type": "execute_result",
          "data": {
            "text/plain": [
              "'The solver successfully reached the end of the integration interval.'"
            ],
            "application/vnd.google.colaboratory.intrinsic+json": {
              "type": "string"
            }
          },
          "metadata": {},
          "execution_count": 8
        }
      ],
      "source": [
        "results, details = run_solve_ivp(system, slope_func)\n",
        "details.message"
      ]
    },
    {
      "cell_type": "markdown",
      "id": "ranging-lingerie",
      "metadata": {
        "id": "ranging-lingerie"
      },
      "source": [
        "`results` is a `TimeFrame` with two columns: `y` contains the height of the penny; `v` contains its velocity.\n",
        "Here are the first few rows."
      ]
    },
    {
      "cell_type": "code",
      "execution_count": 9,
      "id": "assisted-swimming",
      "metadata": {
        "id": "assisted-swimming",
        "outputId": "0b1209c9-1439-4588-ae7a-849046ce727d",
        "colab": {
          "base_uri": "https://localhost:8080/",
          "height": 206
        }
      },
      "outputs": [
        {
          "output_type": "execute_result",
          "data": {
            "text/plain": [
              "           y     v\n",
              "0.0  381.000  0.00\n",
              "0.1  380.951 -0.98\n",
              "0.2  380.804 -1.96\n",
              "0.3  380.559 -2.94\n",
              "0.4  380.216 -3.92"
            ],
            "text/html": [
              "\n",
              "  <div id=\"df-890cc759-caec-4fe6-bd46-9c2da490d333\" class=\"colab-df-container\">\n",
              "    <div>\n",
              "<style scoped>\n",
              "    .dataframe tbody tr th:only-of-type {\n",
              "        vertical-align: middle;\n",
              "    }\n",
              "\n",
              "    .dataframe tbody tr th {\n",
              "        vertical-align: top;\n",
              "    }\n",
              "\n",
              "    .dataframe thead th {\n",
              "        text-align: right;\n",
              "    }\n",
              "</style>\n",
              "<table border=\"1\" class=\"dataframe\">\n",
              "  <thead>\n",
              "    <tr style=\"text-align: right;\">\n",
              "      <th></th>\n",
              "      <th>y</th>\n",
              "      <th>v</th>\n",
              "    </tr>\n",
              "  </thead>\n",
              "  <tbody>\n",
              "    <tr>\n",
              "      <th>0.0</th>\n",
              "      <td>381.000</td>\n",
              "      <td>0.00</td>\n",
              "    </tr>\n",
              "    <tr>\n",
              "      <th>0.1</th>\n",
              "      <td>380.951</td>\n",
              "      <td>-0.98</td>\n",
              "    </tr>\n",
              "    <tr>\n",
              "      <th>0.2</th>\n",
              "      <td>380.804</td>\n",
              "      <td>-1.96</td>\n",
              "    </tr>\n",
              "    <tr>\n",
              "      <th>0.3</th>\n",
              "      <td>380.559</td>\n",
              "      <td>-2.94</td>\n",
              "    </tr>\n",
              "    <tr>\n",
              "      <th>0.4</th>\n",
              "      <td>380.216</td>\n",
              "      <td>-3.92</td>\n",
              "    </tr>\n",
              "  </tbody>\n",
              "</table>\n",
              "</div>\n",
              "    <div class=\"colab-df-buttons\">\n",
              "\n",
              "  <div class=\"colab-df-container\">\n",
              "    <button class=\"colab-df-convert\" onclick=\"convertToInteractive('df-890cc759-caec-4fe6-bd46-9c2da490d333')\"\n",
              "            title=\"Convert this dataframe to an interactive table.\"\n",
              "            style=\"display:none;\">\n",
              "\n",
              "  <svg xmlns=\"http://www.w3.org/2000/svg\" height=\"24px\" viewBox=\"0 -960 960 960\">\n",
              "    <path d=\"M120-120v-720h720v720H120Zm60-500h600v-160H180v160Zm220 220h160v-160H400v160Zm0 220h160v-160H400v160ZM180-400h160v-160H180v160Zm440 0h160v-160H620v160ZM180-180h160v-160H180v160Zm440 0h160v-160H620v160Z\"/>\n",
              "  </svg>\n",
              "    </button>\n",
              "\n",
              "  <style>\n",
              "    .colab-df-container {\n",
              "      display:flex;\n",
              "      gap: 12px;\n",
              "    }\n",
              "\n",
              "    .colab-df-convert {\n",
              "      background-color: #E8F0FE;\n",
              "      border: none;\n",
              "      border-radius: 50%;\n",
              "      cursor: pointer;\n",
              "      display: none;\n",
              "      fill: #1967D2;\n",
              "      height: 32px;\n",
              "      padding: 0 0 0 0;\n",
              "      width: 32px;\n",
              "    }\n",
              "\n",
              "    .colab-df-convert:hover {\n",
              "      background-color: #E2EBFA;\n",
              "      box-shadow: 0px 1px 2px rgba(60, 64, 67, 0.3), 0px 1px 3px 1px rgba(60, 64, 67, 0.15);\n",
              "      fill: #174EA6;\n",
              "    }\n",
              "\n",
              "    .colab-df-buttons div {\n",
              "      margin-bottom: 4px;\n",
              "    }\n",
              "\n",
              "    [theme=dark] .colab-df-convert {\n",
              "      background-color: #3B4455;\n",
              "      fill: #D2E3FC;\n",
              "    }\n",
              "\n",
              "    [theme=dark] .colab-df-convert:hover {\n",
              "      background-color: #434B5C;\n",
              "      box-shadow: 0px 1px 3px 1px rgba(0, 0, 0, 0.15);\n",
              "      filter: drop-shadow(0px 1px 2px rgba(0, 0, 0, 0.3));\n",
              "      fill: #FFFFFF;\n",
              "    }\n",
              "  </style>\n",
              "\n",
              "    <script>\n",
              "      const buttonEl =\n",
              "        document.querySelector('#df-890cc759-caec-4fe6-bd46-9c2da490d333 button.colab-df-convert');\n",
              "      buttonEl.style.display =\n",
              "        google.colab.kernel.accessAllowed ? 'block' : 'none';\n",
              "\n",
              "      async function convertToInteractive(key) {\n",
              "        const element = document.querySelector('#df-890cc759-caec-4fe6-bd46-9c2da490d333');\n",
              "        const dataTable =\n",
              "          await google.colab.kernel.invokeFunction('convertToInteractive',\n",
              "                                                    [key], {});\n",
              "        if (!dataTable) return;\n",
              "\n",
              "        const docLinkHtml = 'Like what you see? Visit the ' +\n",
              "          '<a target=\"_blank\" href=https://colab.research.google.com/notebooks/data_table.ipynb>data table notebook</a>'\n",
              "          + ' to learn more about interactive tables.';\n",
              "        element.innerHTML = '';\n",
              "        dataTable['output_type'] = 'display_data';\n",
              "        await google.colab.output.renderOutput(dataTable, element);\n",
              "        const docLink = document.createElement('div');\n",
              "        docLink.innerHTML = docLinkHtml;\n",
              "        element.appendChild(docLink);\n",
              "      }\n",
              "    </script>\n",
              "  </div>\n",
              "\n",
              "\n",
              "    <div id=\"df-c0fce2fd-a166-4e3b-83c6-ae312d988076\">\n",
              "      <button class=\"colab-df-quickchart\" onclick=\"quickchart('df-c0fce2fd-a166-4e3b-83c6-ae312d988076')\"\n",
              "                title=\"Suggest charts\"\n",
              "                style=\"display:none;\">\n",
              "\n",
              "<svg xmlns=\"http://www.w3.org/2000/svg\" height=\"24px\"viewBox=\"0 0 24 24\"\n",
              "     width=\"24px\">\n",
              "    <g>\n",
              "        <path d=\"M19 3H5c-1.1 0-2 .9-2 2v14c0 1.1.9 2 2 2h14c1.1 0 2-.9 2-2V5c0-1.1-.9-2-2-2zM9 17H7v-7h2v7zm4 0h-2V7h2v10zm4 0h-2v-4h2v4z\"/>\n",
              "    </g>\n",
              "</svg>\n",
              "      </button>\n",
              "\n",
              "<style>\n",
              "  .colab-df-quickchart {\n",
              "      --bg-color: #E8F0FE;\n",
              "      --fill-color: #1967D2;\n",
              "      --hover-bg-color: #E2EBFA;\n",
              "      --hover-fill-color: #174EA6;\n",
              "      --disabled-fill-color: #AAA;\n",
              "      --disabled-bg-color: #DDD;\n",
              "  }\n",
              "\n",
              "  [theme=dark] .colab-df-quickchart {\n",
              "      --bg-color: #3B4455;\n",
              "      --fill-color: #D2E3FC;\n",
              "      --hover-bg-color: #434B5C;\n",
              "      --hover-fill-color: #FFFFFF;\n",
              "      --disabled-bg-color: #3B4455;\n",
              "      --disabled-fill-color: #666;\n",
              "  }\n",
              "\n",
              "  .colab-df-quickchart {\n",
              "    background-color: var(--bg-color);\n",
              "    border: none;\n",
              "    border-radius: 50%;\n",
              "    cursor: pointer;\n",
              "    display: none;\n",
              "    fill: var(--fill-color);\n",
              "    height: 32px;\n",
              "    padding: 0;\n",
              "    width: 32px;\n",
              "  }\n",
              "\n",
              "  .colab-df-quickchart:hover {\n",
              "    background-color: var(--hover-bg-color);\n",
              "    box-shadow: 0 1px 2px rgba(60, 64, 67, 0.3), 0 1px 3px 1px rgba(60, 64, 67, 0.15);\n",
              "    fill: var(--button-hover-fill-color);\n",
              "  }\n",
              "\n",
              "  .colab-df-quickchart-complete:disabled,\n",
              "  .colab-df-quickchart-complete:disabled:hover {\n",
              "    background-color: var(--disabled-bg-color);\n",
              "    fill: var(--disabled-fill-color);\n",
              "    box-shadow: none;\n",
              "  }\n",
              "\n",
              "  .colab-df-spinner {\n",
              "    border: 2px solid var(--fill-color);\n",
              "    border-color: transparent;\n",
              "    border-bottom-color: var(--fill-color);\n",
              "    animation:\n",
              "      spin 1s steps(1) infinite;\n",
              "  }\n",
              "\n",
              "  @keyframes spin {\n",
              "    0% {\n",
              "      border-color: transparent;\n",
              "      border-bottom-color: var(--fill-color);\n",
              "      border-left-color: var(--fill-color);\n",
              "    }\n",
              "    20% {\n",
              "      border-color: transparent;\n",
              "      border-left-color: var(--fill-color);\n",
              "      border-top-color: var(--fill-color);\n",
              "    }\n",
              "    30% {\n",
              "      border-color: transparent;\n",
              "      border-left-color: var(--fill-color);\n",
              "      border-top-color: var(--fill-color);\n",
              "      border-right-color: var(--fill-color);\n",
              "    }\n",
              "    40% {\n",
              "      border-color: transparent;\n",
              "      border-right-color: var(--fill-color);\n",
              "      border-top-color: var(--fill-color);\n",
              "    }\n",
              "    60% {\n",
              "      border-color: transparent;\n",
              "      border-right-color: var(--fill-color);\n",
              "    }\n",
              "    80% {\n",
              "      border-color: transparent;\n",
              "      border-right-color: var(--fill-color);\n",
              "      border-bottom-color: var(--fill-color);\n",
              "    }\n",
              "    90% {\n",
              "      border-color: transparent;\n",
              "      border-bottom-color: var(--fill-color);\n",
              "    }\n",
              "  }\n",
              "</style>\n",
              "\n",
              "      <script>\n",
              "        async function quickchart(key) {\n",
              "          const quickchartButtonEl =\n",
              "            document.querySelector('#' + key + ' button');\n",
              "          quickchartButtonEl.disabled = true;  // To prevent multiple clicks.\n",
              "          quickchartButtonEl.classList.add('colab-df-spinner');\n",
              "          try {\n",
              "            const charts = await google.colab.kernel.invokeFunction(\n",
              "                'suggestCharts', [key], {});\n",
              "          } catch (error) {\n",
              "            console.error('Error during call to suggestCharts:', error);\n",
              "          }\n",
              "          quickchartButtonEl.classList.remove('colab-df-spinner');\n",
              "          quickchartButtonEl.classList.add('colab-df-quickchart-complete');\n",
              "        }\n",
              "        (() => {\n",
              "          let quickchartButtonEl =\n",
              "            document.querySelector('#df-c0fce2fd-a166-4e3b-83c6-ae312d988076 button');\n",
              "          quickchartButtonEl.style.display =\n",
              "            google.colab.kernel.accessAllowed ? 'block' : 'none';\n",
              "        })();\n",
              "      </script>\n",
              "    </div>\n",
              "\n",
              "    </div>\n",
              "  </div>\n"
            ],
            "application/vnd.google.colaboratory.intrinsic+json": {
              "type": "dataframe",
              "variable_name": "results",
              "summary": "{\n  \"name\": \"results\",\n  \"rows\": 101,\n  \"fields\": [\n    {\n      \"column\": \"y\",\n      \"properties\": {\n        \"dtype\": \"number\",\n        \"std\": 148.37057837826197,\n        \"min\": -108.99999999999983,\n        \"max\": 381.0,\n        \"num_unique_values\": 101,\n        \"samples\": [\n          35.2560000000002,\n          232.77499999999992,\n          167.556\n        ],\n        \"semantic_type\": \"\",\n        \"description\": \"\"\n      }\n    },\n    {\n      \"column\": \"v\",\n      \"properties\": {\n        \"dtype\": \"number\",\n        \"std\": 28.714167235007892,\n        \"min\": -98.00000000000004,\n        \"max\": 0.0,\n        \"num_unique_values\": 101,\n        \"samples\": [\n          -82.32000000000004,\n          -53.90000000000001,\n          -64.68000000000002\n        ],\n        \"semantic_type\": \"\",\n        \"description\": \"\"\n      }\n    }\n  ]\n}"
            }
          },
          "metadata": {},
          "execution_count": 9
        }
      ],
      "source": [
        "results.head()"
      ]
    },
    {
      "cell_type": "markdown",
      "id": "solved-chambers",
      "metadata": {
        "id": "solved-chambers"
      },
      "source": [
        "We can plot the results like this:"
      ]
    },
    {
      "cell_type": "code",
      "execution_count": 10,
      "id": "authorized-barrier",
      "metadata": {
        "id": "authorized-barrier",
        "outputId": "840a32e8-2611-43d4-9dc6-c82bfebc5995",
        "colab": {
          "base_uri": "https://localhost:8080/",
          "height": 309
        }
      },
      "outputs": [
        {
          "output_type": "display_data",
          "data": {
            "text/plain": [
              "<Figure size 450x300 with 1 Axes>"
            ],
            "image/png": "[encoded data removed]"
          },
          "metadata": {}
        }
      ],
      "source": [
        "results.y.plot()\n",
        "\n",
        "decorate(xlabel='Time (s)',\n",
        "         ylabel='Position (m)')"
      ]
    },
    {
      "cell_type": "markdown",
      "id": "differential-airfare",
      "metadata": {
        "id": "differential-airfare"
      },
      "source": [
        "Since acceleration is constant, velocity increases linearly and position decreases quadratically; as a result, the height curve is a parabola.\n",
        "\n",
        "The last value of `results.y` is negative, which means we ran the simulation too long."
      ]
    },
    {
      "cell_type": "code",
      "execution_count": 11,
      "id": "protected-fiber",
      "metadata": {
        "id": "protected-fiber",
        "outputId": "8069b789-73c0-446d-fcc1-cd15ce8a0a4b",
        "colab": {
          "base_uri": "https://localhost:8080/"
        }
      },
      "outputs": [
        {
          "output_type": "execute_result",
          "data": {
            "text/plain": [
              "np.float64(-108.99999999999983)"
            ]
          },
          "metadata": {},
          "execution_count": 11
        }
      ],
      "source": [
        "results.iloc[-1].y"
      ]
    },
    {
      "cell_type": "markdown",
      "id": "metallic-tamil",
      "metadata": {
        "id": "metallic-tamil"
      },
      "source": [
        "One way to solve this problem is to use the results to\n",
        "estimate the time when the penny hits the sidewalk.\n",
        "\n",
        "The ModSim library provides `crossings`, which takes a `TimeSeries` and a value, and returns a sequence of times when the series passes through the value. We can find the time when the height of the penny is `0` like this:"
      ]
    },
    {
      "cell_type": "code",
      "execution_count": 12,
      "id": "japanese-clear",
      "metadata": {
        "id": "japanese-clear",
        "outputId": "e1f5af29-12ea-43de-ecfd-3fd38142d270",
        "colab": {
          "base_uri": "https://localhost:8080/"
        }
      },
      "outputs": [
        {
          "output_type": "execute_result",
          "data": {
            "text/plain": [
              "array([8.81788535])"
            ]
          },
          "metadata": {},
          "execution_count": 12
        }
      ],
      "source": [
        "t_crossings = crossings(results.y, 0)\n",
        "t_crossings"
      ]
    },
    {
      "cell_type": "markdown",
      "id": "demonstrated-emission",
      "metadata": {
        "id": "demonstrated-emission"
      },
      "source": [
        "The result is an array with a single value, 8.818 s. Now, we could run\n",
        "the simulation again with `t_end = 8.818`, but there's a better way."
      ]
    },
    {
      "cell_type": "markdown",
      "id": "blind-dominant",
      "metadata": {
        "id": "blind-dominant"
      },
      "source": [
        "## Events\n",
        "\n",
        "As an option, `run_solve_ivp` can take an *event function*, which\n",
        "detects an \"event\", like the penny hitting the sidewalk, and ends the\n",
        "simulation.\n",
        "\n",
        "Event functions take the same parameters as slope functions, `t`, `state`, and `system`. They should return a value that passes through `0` when the event occurs. Here's an event function that detects the penny hitting the sidewalk:"
      ]
    },
    {
      "cell_type": "code",
      "execution_count": 13,
      "id": "comfortable-simple",
      "metadata": {
        "id": "comfortable-simple"
      },
      "outputs": [],
      "source": [
        "def event_func(t, state, system):\n",
        "    y, v = state\n",
        "    return y"
      ]
    },
    {
      "cell_type": "markdown",
      "id": "closing-vehicle",
      "metadata": {
        "id": "closing-vehicle"
      },
      "source": [
        "The return value is the height of the penny, `y`, which passes through\n",
        "`0` when the penny hits the sidewalk.\n",
        "\n",
        "We pass the event function to `run_solve_ivp` like this:"
      ]
    },
    {
      "cell_type": "code",
      "execution_count": 14,
      "id": "exotic-shareware",
      "metadata": {
        "id": "exotic-shareware",
        "outputId": "ff2b3b06-2a8c-435f-da6b-d57ef454d0c2",
        "colab": {
          "base_uri": "https://localhost:8080/",
          "height": 35
        }
      },
      "outputs": [
        {
          "output_type": "execute_result",
          "data": {
            "text/plain": [
              "'A termination event occurred.'"
            ],
            "application/vnd.google.colaboratory.intrinsic+json": {
              "type": "string"
            }
          },
          "metadata": {},
          "execution_count": 14
        }
      ],
      "source": [
        "results, details = run_solve_ivp(system, slope_func,\n",
        "                                 events=event_func)\n",
        "details.message"
      ]
    },
    {
      "cell_type": "markdown",
      "id": "recreational-blair",
      "metadata": {
        "id": "recreational-blair"
      },
      "source": [
        "Then we can get the flight time like this:"
      ]
    },
    {
      "cell_type": "code",
      "execution_count": 15,
      "id": "appropriate-roberts",
      "metadata": {
        "id": "appropriate-roberts",
        "outputId": "e3889aa0-e4e2-4490-8897-59dfd5409b15",
        "colab": {
          "base_uri": "https://localhost:8080/"
        }
      },
      "outputs": [
        {
          "output_type": "execute_result",
          "data": {
            "text/plain": [
              "np.float64(8.817885349720553)"
            ]
          },
          "metadata": {},
          "execution_count": 15
        }
      ],
      "source": [
        "t_end = results.index[-1]\n",
        "t_end"
      ]
    },
    {
      "cell_type": "markdown",
      "id": "pediatric-portal",
      "metadata": {
        "id": "pediatric-portal"
      },
      "source": [
        "And the final velocity like this:"
      ]
    },
    {
      "cell_type": "code",
      "execution_count": 16,
      "id": "orange-retro",
      "metadata": {
        "id": "orange-retro",
        "outputId": "75197df6-0790-4905-bd00-7a1db2144359",
        "colab": {
          "base_uri": "https://localhost:8080/"
        }
      },
      "outputs": [
        {
          "output_type": "execute_result",
          "data": {
            "text/plain": [
              "(0.0, -86.41527642726145)"
            ]
          },
          "metadata": {},
          "execution_count": 16
        }
      ],
      "source": [
        "y, v = results.iloc[-1]\n",
        "y, v"
      ]
    },
    {
      "cell_type": "markdown",
      "id": "cleared-jamaica",
      "metadata": {
        "id": "cleared-jamaica"
      },
      "source": [
        "If there were no air resistance, the penny would hit the sidewalk (or someone's head) at about 86 m/s. So it's a good thing there is air resistance."
      ]
    },
    {
      "cell_type": "markdown",
      "id": "induced-albert",
      "metadata": {
        "id": "induced-albert"
      },
      "source": [
        "## Summary\n",
        "\n",
        "In this chapter, we wrote Newton's second law, which is a second order DE, as a system of first order DEs.\n",
        "Then we used `run_solve_ivp` to simulate a penny dropping from the Empire State Building in the absence of air resistance.\n",
        "And we used an event function to stop the simulation when the penny reaches the sidewalk.\n",
        "\n",
        "In the next chapter we'll add air resistance to the model.\n",
        "But first you might want to work on this exercise."
      ]
    },
    {
      "cell_type": "markdown",
      "id": "operational-bhutan",
      "metadata": {
        "id": "operational-bhutan"
      },
      "source": [
        "## Exercises\n",
        "\n",
        "This chapter is available as a Jupyter notebook where you can read the text, run the code, and work on the exercises.\n",
        "You can access the notebooks at <https://allendowney.github.io/ModSimPy/>."
      ]
    },
    {
      "cell_type": "markdown",
      "id": "straight-johns",
      "metadata": {
        "id": "straight-johns"
      },
      "source": [
        "### Exercise 1\n",
        "\n",
        "Here's a question from the web site *Ask an Astronomer* (see http://curious.astro.cornell.edu/about-us/39-our-solar-system/the-earth/other-catastrophes/57-how-long-would-it-take-the-earth-to-fall-into-the-sun-intermediate):\n",
        "\n",
        "> \"If the Earth suddenly stopped orbiting the Sun, I know eventually it would be pulled in by the Sun's gravity and hit it. How long would it take the Earth to hit the Sun? I imagine it would go slowly at first and then pick up speed.\"\n",
        "\n",
        "Use `run_solve_ivp` to answer this question.\n",
        "\n",
        "Here are some suggestions about how to proceed:\n",
        "\n",
        "1.  Look up the Law of Universal Gravitation and any constants you need.  I suggest you work entirely in SI units: meters, kilograms, and Newtons.\n",
        "\n",
        "2.  When the distance between the Earth and the Sun gets small, this system behaves badly, so you should use an event function to stop when the surface of Earth reaches the surface of the Sun.\n",
        "\n",
        "3. Express your answer in days, and plot the results as millions of kilometers versus days.\n",
        "\n",
        "If you read the reply by Dave Rothstein, you will see other ways to solve the problem, and a good discussion of the modeling decisions behind them.\n",
        "\n",
        "You might also be interested to know that it's not that easy to get to the Sun; see https://www.theatlantic.com/science/archive/2018/08/parker-solar-probe-launch-nasa/567197/."
      ]
    },
    {
      "cell_type": "code",
      "execution_count": 17,
      "id": "forbidden-distributor",
      "metadata": {
        "id": "forbidden-distributor"
      },
      "outputs": [],
      "source": [
        "# Solution goes here"
      ]
    },
    {
      "cell_type": "code",
      "execution_count": 18,
      "id": "former-taxation",
      "metadata": {
        "id": "former-taxation"
      },
      "outputs": [],
      "source": [
        "# Solution goes here"
      ]
    },
    {
      "cell_type": "code",
      "execution_count": 19,
      "id": "oriental-riverside",
      "metadata": {
        "id": "oriental-riverside"
      },
      "outputs": [],
      "source": [
        "# Solution goes here"
      ]
    },
    {
      "cell_type": "code",
      "execution_count": 20,
      "id": "radio-reproduction",
      "metadata": {
        "id": "radio-reproduction"
      },
      "outputs": [],
      "source": [
        "# Solution goes here"
      ]
    },
    {
      "cell_type": "code",
      "execution_count": 21,
      "id": "heavy-cologne",
      "metadata": {
        "id": "heavy-cologne"
      },
      "outputs": [],
      "source": [
        "# Solution goes here"
      ]
    },
    {
      "cell_type": "code",
      "execution_count": 22,
      "id": "little-electric",
      "metadata": {
        "id": "little-electric"
      },
      "outputs": [],
      "source": [
        "# Solution goes here"
      ]
    },
    {
      "cell_type": "code",
      "execution_count": 23,
      "id": "continental-details",
      "metadata": {
        "id": "continental-details"
      },
      "outputs": [],
      "source": [
        "# Solution goes here"
      ]
    },
    {
      "cell_type": "code",
      "execution_count": 24,
      "id": "suitable-traveler",
      "metadata": {
        "id": "suitable-traveler"
      },
      "outputs": [],
      "source": [
        "# Solution goes here"
      ]
    },
    {
      "cell_type": "code",
      "execution_count": 25,
      "id": "upper-victory",
      "metadata": {
        "id": "upper-victory"
      },
      "outputs": [],
      "source": [
        "# Solution goes here"
      ]
    },
    {
      "cell_type": "code",
      "execution_count": 26,
      "id": "transparent-treat",
      "metadata": {
        "id": "transparent-treat"
      },
      "outputs": [],
      "source": [
        "# Solution goes here"
      ]
    },
    {
      "cell_type": "code",
      "execution_count": 27,
      "id": "brutal-woman",
      "metadata": {
        "id": "brutal-woman"
      },
      "outputs": [],
      "source": [
        "# Solution goes here"
      ]
    },
    {
      "cell_type": "code",
      "execution_count": 28,
      "id": "gentle-burst",
      "metadata": {
        "id": "gentle-burst"
      },
      "outputs": [],
      "source": [
        "# Solution goes here"
      ]
    },
    {
      "cell_type": "code",
      "execution_count": 29,
      "id": "comfortable-galaxy",
      "metadata": {
        "id": "comfortable-galaxy"
      },
      "outputs": [],
      "source": [
        "# Solution goes here"
      ]
    },
    {
      "cell_type": "code",
      "execution_count": 30,
      "id": "satisfactory-latitude",
      "metadata": {
        "id": "satisfactory-latitude"
      },
      "outputs": [],
      "source": [
        "# Solution goes here"
      ]
    },
    {
      "cell_type": "code",
      "execution_count": 31,
      "id": "significant-rebound",
      "metadata": {
        "id": "significant-rebound"
      },
      "outputs": [],
      "source": [
        "# Solution goes here"
      ]
    },
    {
      "cell_type": "code",
      "execution_count": 31,
      "id": "listed-shelter",
      "metadata": {
        "id": "listed-shelter"
      },
      "outputs": [],
      "source": []
    }
  ],
  "metadata": {
    "celltoolbar": "Tags",
    "kernelspec": {
      "display_name": "Python 3 (ipykernel)",
      "language": "python",
      "name": "python3"
    },
    "language_info": {
      "codemirror_mode": {
        "name": "ipython",
        "version": 3
      },
      "file_extension": ".py",
      "mimetype": "text/x-python",
      "name": "python",
      "nbconvert_exporter": "python",
      "pygments_lexer": "ipython3",
      "version": "3.7.12"
    },
    "colab": {
      "provenance": []
    }
  },
  "nbformat": 4,
  "nbformat_minor": 5
}